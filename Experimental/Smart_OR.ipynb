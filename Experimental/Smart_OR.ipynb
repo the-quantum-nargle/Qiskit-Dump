{
  "cells": [
    {
      "cell_type": "markdown",
      "metadata": {
        "id": "view-in-github",
        "colab_type": "text"
      },
      "source": [
        "<a href=\"https://colab.research.google.com/github/the-quantum-nargle/Qiskit-Lab-Experiments/blob/main/Experimental/Smart_OR.ipynb\" target=\"_parent\"><img src=\"https://colab.research.google.com/assets/colab-badge.svg\" alt=\"Open In Colab\"/></a>"
      ]
    },
    {
      "cell_type": "code",
      "execution_count": 1,
      "metadata": {
        "id": "NAkyvL5C9mbG",
        "outputId": "bd2e9f88-46d6-41ec-dbc2-a97eca311ead",
        "colab": {
          "base_uri": "https://localhost:8080/",
          "height": 387
        }
      },
      "outputs": [
        {
          "output_type": "error",
          "ename": "ModuleNotFoundError",
          "evalue": "ignored",
          "traceback": [
            "\u001b[0;31m---------------------------------------------------------------------------\u001b[0m",
            "\u001b[0;31mModuleNotFoundError\u001b[0m                       Traceback (most recent call last)",
            "\u001b[0;32m<ipython-input-1-ddd228283015>\u001b[0m in \u001b[0;36m<module>\u001b[0;34m()\u001b[0m\n\u001b[0;32m----> 1\u001b[0;31m \u001b[0;32mfrom\u001b[0m \u001b[0mibm_quantum_widgets\u001b[0m \u001b[0;32mimport\u001b[0m \u001b[0mCircuitComposer\u001b[0m\u001b[0;34m\u001b[0m\u001b[0;34m\u001b[0m\u001b[0m\n\u001b[0m\u001b[1;32m      2\u001b[0m \u001b[0;32mfrom\u001b[0m \u001b[0mqiskit\u001b[0m \u001b[0;32mimport\u001b[0m \u001b[0mQuantumRegister\u001b[0m\u001b[0;34m,\u001b[0m \u001b[0mClassicalRegister\u001b[0m\u001b[0;34m,\u001b[0m \u001b[0mQuantumCircuit\u001b[0m\u001b[0;34m,\u001b[0m \u001b[0mAer\u001b[0m\u001b[0;34m,\u001b[0m \u001b[0mtranspile\u001b[0m\u001b[0;34m\u001b[0m\u001b[0;34m\u001b[0m\u001b[0m\n\u001b[1;32m      3\u001b[0m \u001b[0;32mfrom\u001b[0m \u001b[0mnumpy\u001b[0m \u001b[0;32mimport\u001b[0m \u001b[0mpi\u001b[0m\u001b[0;34m\u001b[0m\u001b[0;34m\u001b[0m\u001b[0m\n\u001b[1;32m      4\u001b[0m \u001b[0msimulator\u001b[0m \u001b[0;34m=\u001b[0m \u001b[0mAer\u001b[0m\u001b[0;34m.\u001b[0m\u001b[0mget_backend\u001b[0m\u001b[0;34m(\u001b[0m\u001b[0;34m'qasm_simulator'\u001b[0m\u001b[0;34m)\u001b[0m\u001b[0;34m\u001b[0m\u001b[0;34m\u001b[0m\u001b[0m\n\u001b[1;32m      5\u001b[0m \u001b[0;34m\u001b[0m\u001b[0m\n",
            "\u001b[0;31mModuleNotFoundError\u001b[0m: No module named 'ibm_quantum_widgets'",
            "",
            "\u001b[0;31m---------------------------------------------------------------------------\u001b[0;32m\nNOTE: If your import is failing due to a missing package, you can\nmanually install dependencies using either !pip or !apt.\n\nTo view examples of installing some common dependencies, click the\n\"Open Examples\" button below.\n\u001b[0;31m---------------------------------------------------------------------------\u001b[0m\n"
          ],
          "errorDetails": {
            "actions": [
              {
                "action": "open_url",
                "actionText": "Open Examples",
                "url": "/notebooks/snippets/importing_libraries.ipynb"
              }
            ]
          }
        }
      ],
      "source": [
        "from ibm_quantum_widgets import CircuitComposer\n",
        "from qiskit import QuantumRegister, ClassicalRegister, QuantumCircuit, Aer, transpile\n",
        "from numpy import pi\n",
        "simulator = Aer.get_backend('qasm_simulator')\n",
        "\n",
        "#Creating custom OR Gate\n",
        "#Input Qubits: 0,1\n",
        "#Output Qubit: 2\n",
        "\n",
        "\n",
        "OR = QuantumRegister(3)\n",
        "\n",
        "circuit = QuantumCircuit(OR,name=' OR ')\n",
        "circuit.cx(OR[0], OR[2])\n",
        "circuit.cx(OR[1], OR[2])\n",
        "circuit.ccx(OR[0], OR[1], OR[2])\n",
        "\n",
        "or2 = circuit.to_instruction()\n",
        "\n",
        "#DEBUG \n",
        "circuit.draw()\n"
      ]
    },
    {
      "cell_type": "code",
      "execution_count": null,
      "metadata": {
        "id": "MXrg2JVQ9mbM",
        "outputId": "39df2cb3-0fc8-4274-98a1-7106c73ac11c"
      },
      "outputs": [
        {
          "data": {
            "image/png": "[encoded data removed]",
            "text/plain": [
              "<Figure size 280.469x204.68 with 1 Axes>"
            ]
          },
          "execution_count": 24,
          "metadata": {},
          "output_type": "execute_result"
        }
      ],
      "source": [
        "from ibm_quantum_widgets import CircuitComposer\n",
        "from qiskit import QuantumRegister, ClassicalRegister, QuantumCircuit, Aer, transpile\n",
        "from numpy import pi\n",
        "simulator = Aer.get_backend('qasm_simulator')\n",
        "\n",
        "#Creating custom OR Gate alt version (to allow changing of temp var)\n",
        "#Input Qubits: 0,2(this most likely from previous OR)\n",
        "#Output Qubit\n",
        "\n",
        "OR = QuantumRegister(3)\n",
        "\n",
        "circuit = QuantumCircuit(OR,name=' OR ALt ')\n",
        "circuit.cx(OR[0], OR[1])\n",
        "circuit.cx(OR[2], OR[1])\n",
        "circuit.ccx(OR[0], OR[2], OR[1])\n",
        "\n",
        "or2Alt = circuit.to_instruction()\n",
        "\n",
        "#DEBUG \n",
        "circuit.draw()\n"
      ]
    },
    {
      "cell_type": "code",
      "execution_count": null,
      "metadata": {
        "id": "C3YWz0gz9mbN",
        "outputId": "0f343f9e-69a6-4e3c-fe33-46fe70b576b1"
      },
      "outputs": [
        {
          "data": {
            "image/png": "[encoded data removed]",
            "text/plain": [
              "<Figure size 267.197x204.68 with 1 Axes>"
            ]
          },
          "execution_count": 33,
          "metadata": {},
          "output_type": "execute_result"
        }
      ],
      "source": [
        "#Example of circuit with both being used\n",
        "qr = QuantumRegister(3, 'q')\n",
        "circ = QuantumCircuit(qr)\n",
        "\n",
        "#Input Qubits, 0,1\n",
        "#So we can do whatever we want from qubit 0 and 1 before OR\n",
        "#For example,\n",
        "\n",
        "circ.x(qr[0])\n",
        "circ.x(qr[1])\n",
        "\n",
        "#Now we call q0 or q1 ~~ q2 (output) \n",
        "#And uncompute q0 q1\n",
        "circ.append(or2, [qr[0], qr[1],qr[2]])\n",
        "circ.x(qr[0])\n",
        "circ.x(qr[1])\n",
        "\n",
        "\n",
        "#after previous or, qubit q2 contains the output of q0 or q1.\n",
        "\n",
        "circ.draw(output='mpl')"
      ]
    },
    {
      "cell_type": "code",
      "execution_count": null,
      "metadata": {
        "id": "XoCK6sMj9mbO",
        "outputId": "baec1557-f7cb-4903-a3df-c59588f48a45"
      },
      "outputs": [
        {
          "data": {
            "image/png": "[encoded data removed]",
            "text/plain": [
              "<Figure size 507.997x204.68 with 1 Axes>"
            ]
          },
          "execution_count": 34,
          "metadata": {},
          "output_type": "execute_result"
        }
      ],
      "source": [
        "#Now if we want to do another OR without increasing Qubits, we simply use OR-alt which uses q0,q2 as input.\n",
        "#But since qubit q2 contains output from previous OR, so we are left with 1 input qubit which is q0\n",
        "\n",
        "#So we may do whatever new computation we want on q0 now, \n",
        "circ.x(qr[0])\n",
        "\n",
        "#Now we call or-alt  and uncompute q0\n",
        "circ.append(or2Alt, [qr[0], qr[1],qr[2]])\n",
        "circ.x(qr[0])\n",
        "\n",
        "#Or-Alt uses q0 and q2(output from previous or) as input, and q1 as output\n",
        "#Now we are free to use q0 again an the next input, and this cycle repeats\n",
        "\n",
        "\n",
        "#IN ITHER OR VERSION Q0 IS ALWAYS AVAILABLE AS USER INPUT\n",
        "#Unlike first or which takes 2 user inuts, consequtive ORs take 1 user input and 1 computed input from previous OR\n",
        "\n",
        "circ.draw(output='mpl')"
      ]
    },
    {
      "cell_type": "code",
      "execution_count": null,
      "metadata": {
        "id": "ZDt7VOE19mbP",
        "outputId": "846348d9-2f47-40a1-d55d-62b6dd878411"
      },
      "outputs": [
        {
          "data": {
            "image/png": "[encoded data removed]",
            "text/plain": [
              "<Figure size 146.797x204.68 with 1 Axes>"
            ]
          },
          "execution_count": 9,
          "metadata": {},
          "output_type": "execute_result"
        }
      ],
      "source": [
        "#Example Loop \n",
        "\n",
        "\n",
        "#For (((A OR B) OR C) OR D) \n",
        "#In this case, A,b,c,d are all simply X gate computations \n",
        "\n",
        "#####################\n",
        "#Given 2 inputs q0, q1\n",
        "#####################\n",
        "    #Do whatever computation here! Again for the example, I'll do X gate on both\n",
        "    circ.x(qr[0])\n",
        "    circ.x(qr[1])\n",
        "    \n",
        "                #todo make func to compute and uncompute\n",
        "        \n",
        "##### Simple input the \n",
        "    \n",
        "    \n",
        "\n",
        "\n",
        "qc = QuantumCircuit(3)\n",
        "# Apply H-gate to each qubit:\n",
        "for qubit in range(3):\n",
        "    qc.h(qubit)\n",
        "# See the circuit:\n",
        "qc.draw()"
      ]
    },
    {
      "cell_type": "code",
      "execution_count": null,
      "metadata": {
        "id": "daAJcEQR9mbP"
      },
      "outputs": [],
      "source": [
        ""
      ]
    },
    {
      "cell_type": "code",
      "execution_count": null,
      "metadata": {
        "id": "XNWfF67W9mbP"
      },
      "outputs": [],
      "source": [
        ""
      ]
    }
  ],
  "metadata": {
    "kernelspec": {
      "display_name": "Qiskit v0.34.1 (ipykernel)",
      "language": "python",
      "name": "python3"
    },
    "language_info": {
      "codemirror_mode": {
        "name": "ipython",
        "version": 3
      },
      "file_extension": ".py",
      "mimetype": "text/x-python",
      "name": "python",
      "nbconvert_exporter": "python",
      "pygments_lexer": "ipython3",
      "version": "3.8.12"
    },
    "colab": {
      "name": "Smart_OR.ipynb",
      "provenance": [],
      "include_colab_link": true
    }
  },
  "nbformat": 4,
  "nbformat_minor": 0
}